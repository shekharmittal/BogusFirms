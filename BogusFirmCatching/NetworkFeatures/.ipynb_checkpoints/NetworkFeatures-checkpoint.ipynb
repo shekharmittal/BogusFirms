{
 "cells": [
  {
   "cell_type": "code",
   "execution_count": 1,
   "metadata": {
    "collapsed": false
   },
   "outputs": [],
   "source": [
    "import pandas as pd\n",
    "import matplotlib.pyplot as plt\n",
    "import numpy as np\n",
    "from numpy import *\n",
    "import h2o\n",
    "import graphlab \n",
    "from graphlab import SGraph, Vertex, Edge, SFrame, degree_counting,kcore"
   ]
  },
  {
   "cell_type": "code",
   "execution_count": 2,
   "metadata": {
    "collapsed": false
   },
   "outputs": [],
   "source": [
    "Returns = pd.read_stata(\"E:\\data\\PreliminaryAnalysis\\BogusDealers\\FeatureReturns.dta\", convert_categoricals=False)"
   ]
  },
  {
   "cell_type": "code",
   "execution_count": null,
   "metadata": {
    "collapsed": true
   },
   "outputs": [],
   "source": [
    "SaleNetwork = pd.read_stata(\"E:\\data\\PreliminaryAnalysis\\BogusDealers\\SalesTaxAmount20121314.dta\", convert_categoricals=False)"
   ]
  },
  {
   "cell_type": "code",
   "execution_count": 3,
   "metadata": {
    "collapsed": true
   },
   "outputs": [],
   "source": [
    "PurchaseNetwork = pd.read_stata(\"E:\\data\\PreliminaryAnalysis\\BogusDealers\\PurchaseTaxAmount20121314.dta\", convert_categoricals=False)"
   ]
  },
  {
   "cell_type": "markdown",
   "metadata": {},
   "source": [
    "# edge_data = SFrame(data=SaleNetwork)"
   ]
  },
  {
   "cell_type": "code",
   "execution_count": 1,
   "metadata": {
    "collapsed": true
   },
   "outputs": [],
   "source": [
    "def create_network_features(Returns,Network,name='Sales'):    \n",
    "    for quarter in xrange(9,21):\n",
    "        ReturnsX=Returns[Returns['TaxQuarter']==quarter]\n",
    "        SaleNetworkX=SaleNetwork[Network['TaxQuarter']==quarter]\n",
    "        g = SGraph(vertices=ReturnsX,edges=NetworkX,vid_field='DealerTIN',src_field='DealerTIN', dst_field='SellerBuyerTIN')\n",
    "#         cc = graphlab.connected_components.create(g)\n",
    "#         g.vertices['component_id'] = cc['graph'].vertices['component_id']\n",
    "        pr = graphlab.pagerank.create(g)\n",
    "        g.vertices['pagerank'] = pr['graph'].vertices['pagerank']\n",
    "        tc = graphlab.triangle_counting.create(g)\n",
    "        g.vertices['triangle_count'] = tc['graph'].vertices['triangle_count']\n",
    "        deg = degree_counting.create(g)\n",
    "        deg_graph = deg['graph']\n",
    "        g.vertices['in_degree'] = deg_graph.vertices['in_degree']\n",
    "        g.vertices['out_degree'] = deg_graph.vertices['out_degree']\n",
    "#         kc = kcore.create(g)\n",
    "#         g.vertices['core_id'] = kc['graph'].vertices['core_id']\n",
    "        g.vertices.export_csv('E:\\data\\PreliminaryAnalysis\\BogusDealers\\NetworkFeatures{}{}.csv'.format(name,quarter))"
   ]
  },
  {
   "cell_type": "code",
   "execution_count": null,
   "metadata": {
    "collapsed": true
   },
   "outputs": [],
   "source": [
    "create_network_features(Returns,SaleNetwork,'Sales')\n",
    "create_network_features(Returns,PurchaseNetwork,'Purchases')"
   ]
  }
 ],
 "metadata": {
  "kernelspec": {
   "display_name": "Python 2",
   "language": "python",
   "name": "python2"
  },
  "language_info": {
   "codemirror_mode": {
    "name": "ipython",
    "version": 2
   },
   "file_extension": ".py",
   "mimetype": "text/x-python",
   "name": "python",
   "nbconvert_exporter": "python",
   "pygments_lexer": "ipython2",
   "version": "2.7.11"
  }
 },
 "nbformat": 4,
 "nbformat_minor": 0
}
