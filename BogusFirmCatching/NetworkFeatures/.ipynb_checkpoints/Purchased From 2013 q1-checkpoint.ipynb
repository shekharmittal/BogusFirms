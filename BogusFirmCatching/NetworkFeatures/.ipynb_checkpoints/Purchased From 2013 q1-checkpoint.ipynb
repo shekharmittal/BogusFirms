{
 "cells": [
  {
   "cell_type": "markdown",
   "metadata": {},
   "source": [
    "* In this file we will create a matrix which shows the distance for each dealer from all the starting nodes in the 2013 q1 purchased from network\n",
    "* We also have to find these start nodes\n",
    "    - It is a little counter intuitive. These start nodes are actually the end points of a vat chain\n",
    "    \n",
    "\n",
    "* Step 0: Import Graphlab, sgraph etc\n",
    "* Step 1: Import nodes list and edge list from csv files\n",
    "* Step 2: Create SGraph from imported nodes list and edge list\n",
    "* Step 3: Save the graph in a directory \"sold_to_2013_q1\". Then load the graph into a new Sgraph\n",
    "* Step 4: Find starting nodes\n",
    "    - We define these start nodes as the nodes which have indegree zero and outdegree greater than zero\n",
    "    - Another issue is that we have to include dealers which have a self loop and are starting nodes. Graphlab, by design, counts their indegree as 1. As a result we will add them separately\n",
    "* Step 5: Calculating distance from starting nodes\n",
    "    - The files were becoming huge, so we had to split the data in sets of 100 nodes.\n",
    "    - Will merge these files in stata\n"
   ]
  },
  {
   "cell_type": "markdown",
   "metadata": {},
   "source": [
    "* Step 0: Import Graphlab, sgraph etc\n",
    "* Step 1: Import nodes list and edge list from csv files"
   ]
  },
  {
   "cell_type": "code",
   "execution_count": 1,
   "metadata": {
    "collapsed": false
   },
   "outputs": [],
   "source": [
    "import graphlab \n",
    "from graphlab import SGraph, Vertex, Edge, SFrame, degree_counting"
   ]
  },
  {
   "cell_type": "code",
   "execution_count": 2,
   "metadata": {
    "collapsed": false
   },
   "outputs": [
    {
     "name": "stderr",
     "output_type": "stream",
     "text": [
      "[INFO] GraphLab Create v1.8.3 started. Logging: C:\\Users\\ADMINI~1\\AppData\\Local\\Temp\\2\\graphlab_server_1456896165.log.0\n"
     ]
    },
    {
     "data": {
      "text/html": [
       "<pre>Finished parsing file H:\\graphlab\\2013_q1\\PurchasedFrom\\edge_list.csv</pre>"
      ],
      "text/plain": [
       "Finished parsing file H:\\graphlab\\2013_q1\\PurchasedFrom\\edge_list.csv"
      ]
     },
     "metadata": {},
     "output_type": "display_data"
    },
    {
     "data": {
      "text/html": [
       "<pre>Parsing completed. Parsed 1209025 lines in 0.625045 secs.</pre>"
      ],
      "text/plain": [
       "Parsing completed. Parsed 1209025 lines in 0.625045 secs."
      ]
     },
     "metadata": {},
     "output_type": "display_data"
    },
    {
     "data": {
      "text/html": [
       "<pre>Finished parsing file H:\\graphlab\\2013_q1\\PurchasedFrom\\nodes.csv</pre>"
      ],
      "text/plain": [
       "Finished parsing file H:\\graphlab\\2013_q1\\PurchasedFrom\\nodes.csv"
      ]
     },
     "metadata": {},
     "output_type": "display_data"
    },
    {
     "data": {
      "text/html": [
       "<pre>Parsing completed. Parsed 100 lines in 0.067084 secs.</pre>"
      ],
      "text/plain": [
       "Parsing completed. Parsed 100 lines in 0.067084 secs."
      ]
     },
     "metadata": {},
     "output_type": "display_data"
    },
    {
     "name": "stdout",
     "output_type": "stream",
     "text": [
      "------------------------------------------------------\n",
      "Inferred types from first line of file as \n",
      "column_type_hints=[long,long,str]\n",
      "If parsing fails due to incorrect types, you can correct\n",
      "the inferred type list above and pass it to read_csv in\n",
      "the column_type_hints argument\n",
      "------------------------------------------------------\n",
      "------------------------------------------------------"
     ]
    },
    {
     "data": {
      "text/html": [
       "<pre>Finished parsing file H:\\graphlab\\2013_q1\\PurchasedFrom\\nodes.csv</pre>"
      ],
      "text/plain": [
       "Finished parsing file H:\\graphlab\\2013_q1\\PurchasedFrom\\nodes.csv"
      ]
     },
     "metadata": {},
     "output_type": "display_data"
    },
    {
     "data": {
      "text/html": [
       "<pre>Parsing completed. Parsed 241350 lines in 0.124999 secs.</pre>"
      ],
      "text/plain": [
       "Parsing completed. Parsed 241350 lines in 0.124999 secs."
      ]
     },
     "metadata": {},
     "output_type": "display_data"
    },
    {
     "name": "stdout",
     "output_type": "stream",
     "text": [
      "\n",
      "Inferred types from first line of file as \n",
      "column_type_hints=[long,long,long,long,long]\n",
      "If parsing fails due to incorrect types, you can correct\n",
      "the inferred type list above and pass it to read_csv in\n",
      "the column_type_hints argument\n",
      "------------------------------------------------------\n"
     ]
    }
   ],
   "source": [
    "edge_data = SFrame.read_csv( 'H:/graphlab/2013_q1/PurchasedFrom/edge_list.csv')\n",
    "node_data=SFrame.read_csv('H:/graphlab/2013_q1/PurchasedFrom/nodes.csv')"
   ]
  },
  {
   "cell_type": "code",
   "execution_count": 3,
   "metadata": {
    "collapsed": false
   },
   "outputs": [
    {
     "data": {
      "text/html": [
       "<div style=\"max-height:1000px;max-width:1500px;overflow:auto;\"><table frame=\"box\" rules=\"cols\">\n",
       "    <tr>\n",
       "        <th style=\"padding-left: 1em; padding-right: 1em; text-align: center\">DealerTIN</th>\n",
       "        <th style=\"padding-left: 1em; padding-right: 1em; text-align: center\">indegree</th>\n",
       "        <th style=\"padding-left: 1em; padding-right: 1em; text-align: center\">outdegree</th>\n",
       "        <th style=\"padding-left: 1em; padding-right: 1em; text-align: center\">network_number</th>\n",
       "        <th style=\"padding-left: 1em; padding-right: 1em; text-align: center\">self_loop</th>\n",
       "    </tr>\n",
       "    <tr>\n",
       "        <td style=\"padding-left: 1em; padding-right: 1em; text-align: center; vertical-align: top\">427816</td>\n",
       "        <td style=\"padding-left: 1em; padding-right: 1em; text-align: center; vertical-align: top\">0</td>\n",
       "        <td style=\"padding-left: 1em; padding-right: 1em; text-align: center; vertical-align: top\">3</td>\n",
       "        <td style=\"padding-left: 1em; padding-right: 1em; text-align: center; vertical-align: top\">1</td>\n",
       "        <td style=\"padding-left: 1em; padding-right: 1em; text-align: center; vertical-align: top\">0</td>\n",
       "    </tr>\n",
       "    <tr>\n",
       "        <td style=\"padding-left: 1em; padding-right: 1em; text-align: center; vertical-align: top\">489461</td>\n",
       "        <td style=\"padding-left: 1em; padding-right: 1em; text-align: center; vertical-align: top\">2</td>\n",
       "        <td style=\"padding-left: 1em; padding-right: 1em; text-align: center; vertical-align: top\">2</td>\n",
       "        <td style=\"padding-left: 1em; padding-right: 1em; text-align: center; vertical-align: top\">1</td>\n",
       "        <td style=\"padding-left: 1em; padding-right: 1em; text-align: center; vertical-align: top\">0</td>\n",
       "    </tr>\n",
       "    <tr>\n",
       "        <td style=\"padding-left: 1em; padding-right: 1em; text-align: center; vertical-align: top\">427810</td>\n",
       "        <td style=\"padding-left: 1em; padding-right: 1em; text-align: center; vertical-align: top\">3</td>\n",
       "        <td style=\"padding-left: 1em; padding-right: 1em; text-align: center; vertical-align: top\">26</td>\n",
       "        <td style=\"padding-left: 1em; padding-right: 1em; text-align: center; vertical-align: top\">1</td>\n",
       "        <td style=\"padding-left: 1em; padding-right: 1em; text-align: center; vertical-align: top\">0</td>\n",
       "    </tr>\n",
       "    <tr>\n",
       "        <td style=\"padding-left: 1em; padding-right: 1em; text-align: center; vertical-align: top\">160199</td>\n",
       "        <td style=\"padding-left: 1em; padding-right: 1em; text-align: center; vertical-align: top\">0</td>\n",
       "        <td style=\"padding-left: 1em; padding-right: 1em; text-align: center; vertical-align: top\">9</td>\n",
       "        <td style=\"padding-left: 1em; padding-right: 1em; text-align: center; vertical-align: top\">1</td>\n",
       "        <td style=\"padding-left: 1em; padding-right: 1em; text-align: center; vertical-align: top\">0</td>\n",
       "    </tr>\n",
       "    <tr>\n",
       "        <td style=\"padding-left: 1em; padding-right: 1em; text-align: center; vertical-align: top\">427809</td>\n",
       "        <td style=\"padding-left: 1em; padding-right: 1em; text-align: center; vertical-align: top\">0</td>\n",
       "        <td style=\"padding-left: 1em; padding-right: 1em; text-align: center; vertical-align: top\">104</td>\n",
       "        <td style=\"padding-left: 1em; padding-right: 1em; text-align: center; vertical-align: top\">1</td>\n",
       "        <td style=\"padding-left: 1em; padding-right: 1em; text-align: center; vertical-align: top\">0</td>\n",
       "    </tr>\n",
       "    <tr>\n",
       "        <td style=\"padding-left: 1em; padding-right: 1em; text-align: center; vertical-align: top\">155446</td>\n",
       "        <td style=\"padding-left: 1em; padding-right: 1em; text-align: center; vertical-align: top\">7</td>\n",
       "        <td style=\"padding-left: 1em; padding-right: 1em; text-align: center; vertical-align: top\">8</td>\n",
       "        <td style=\"padding-left: 1em; padding-right: 1em; text-align: center; vertical-align: top\">1</td>\n",
       "        <td style=\"padding-left: 1em; padding-right: 1em; text-align: center; vertical-align: top\">0</td>\n",
       "    </tr>\n",
       "    <tr>\n",
       "        <td style=\"padding-left: 1em; padding-right: 1em; text-align: center; vertical-align: top\">252192</td>\n",
       "        <td style=\"padding-left: 1em; padding-right: 1em; text-align: center; vertical-align: top\">34</td>\n",
       "        <td style=\"padding-left: 1em; padding-right: 1em; text-align: center; vertical-align: top\">1</td>\n",
       "        <td style=\"padding-left: 1em; padding-right: 1em; text-align: center; vertical-align: top\">1</td>\n",
       "        <td style=\"padding-left: 1em; padding-right: 1em; text-align: center; vertical-align: top\">0</td>\n",
       "    </tr>\n",
       "    <tr>\n",
       "        <td style=\"padding-left: 1em; padding-right: 1em; text-align: center; vertical-align: top\">300114</td>\n",
       "        <td style=\"padding-left: 1em; padding-right: 1em; text-align: center; vertical-align: top\">20</td>\n",
       "        <td style=\"padding-left: 1em; padding-right: 1em; text-align: center; vertical-align: top\">1</td>\n",
       "        <td style=\"padding-left: 1em; padding-right: 1em; text-align: center; vertical-align: top\">1</td>\n",
       "        <td style=\"padding-left: 1em; padding-right: 1em; text-align: center; vertical-align: top\">0</td>\n",
       "    </tr>\n",
       "    <tr>\n",
       "        <td style=\"padding-left: 1em; padding-right: 1em; text-align: center; vertical-align: top\">427796</td>\n",
       "        <td style=\"padding-left: 1em; padding-right: 1em; text-align: center; vertical-align: top\">8</td>\n",
       "        <td style=\"padding-left: 1em; padding-right: 1em; text-align: center; vertical-align: top\">3</td>\n",
       "        <td style=\"padding-left: 1em; padding-right: 1em; text-align: center; vertical-align: top\">1</td>\n",
       "        <td style=\"padding-left: 1em; padding-right: 1em; text-align: center; vertical-align: top\">0</td>\n",
       "    </tr>\n",
       "    <tr>\n",
       "        <td style=\"padding-left: 1em; padding-right: 1em; text-align: center; vertical-align: top\">395109</td>\n",
       "        <td style=\"padding-left: 1em; padding-right: 1em; text-align: center; vertical-align: top\">15</td>\n",
       "        <td style=\"padding-left: 1em; padding-right: 1em; text-align: center; vertical-align: top\">10</td>\n",
       "        <td style=\"padding-left: 1em; padding-right: 1em; text-align: center; vertical-align: top\">1</td>\n",
       "        <td style=\"padding-left: 1em; padding-right: 1em; text-align: center; vertical-align: top\">0</td>\n",
       "    </tr>\n",
       "</table>\n",
       "[10 rows x 5 columns]<br/>\n",
       "</div>"
      ],
      "text/plain": [
       "Columns:\n",
       "\tDealerTIN\tint\n",
       "\tindegree\tint\n",
       "\toutdegree\tint\n",
       "\tnetwork_number\tint\n",
       "\tself_loop\tint\n",
       "\n",
       "Rows: 10\n",
       "\n",
       "Data:\n",
       "+-----------+----------+-----------+----------------+-----------+\n",
       "| DealerTIN | indegree | outdegree | network_number | self_loop |\n",
       "+-----------+----------+-----------+----------------+-----------+\n",
       "|   427816  |    0     |     3     |       1        |     0     |\n",
       "|   489461  |    2     |     2     |       1        |     0     |\n",
       "|   427810  |    3     |     26    |       1        |     0     |\n",
       "|   160199  |    0     |     9     |       1        |     0     |\n",
       "|   427809  |    0     |    104    |       1        |     0     |\n",
       "|   155446  |    7     |     8     |       1        |     0     |\n",
       "|   252192  |    34    |     1     |       1        |     0     |\n",
       "|   300114  |    20    |     1     |       1        |     0     |\n",
       "|   427796  |    8     |     3     |       1        |     0     |\n",
       "|   395109  |    15    |     10    |       1        |     0     |\n",
       "+-----------+----------+-----------+----------------+-----------+\n",
       "[10 rows x 5 columns]"
      ]
     },
     "execution_count": 3,
     "metadata": {},
     "output_type": "execute_result"
    }
   ],
   "source": [
    "node_data.head()"
   ]
  },
  {
   "cell_type": "markdown",
   "metadata": {},
   "source": [
    "* Step 2: Create SGraph from imported nodes list and edge list\n",
    "* Step 3: Save the graph in a directory \"Purchased_from_2013_q1\". Then load the graph into a new Sgraph"
   ]
  },
  {
   "cell_type": "code",
   "execution_count": 4,
   "metadata": {
    "collapsed": false
   },
   "outputs": [],
   "source": [
    "g = SGraph(vertices=node_data, edges=edge_data, vid_field='DealerTIN', src_field='Source', dst_field='Destination')\n",
    "g.save('H:/graphlab/2013_q1/PurchasedFrom/Purchased_from_2013_q1')\n",
    "new_graph = graphlab.load_sgraph('H:/graphlab/2013_q1/PurchasedFrom/Purchased_from_2013_q1')"
   ]
  },
  {
   "cell_type": "code",
   "execution_count": 5,
   "metadata": {
    "collapsed": false
   },
   "outputs": [
    {
     "data": {
      "text/plain": [
       "{'num_edges': 1209025L, 'num_vertices': 241350L}"
      ]
     },
     "execution_count": 5,
     "metadata": {},
     "output_type": "execute_result"
    }
   ],
   "source": [
    "new_graph.summary()"
   ]
  },
  {
   "cell_type": "markdown",
   "metadata": {},
   "source": [
    "* Step 4: Find starting nodes\n",
    "    - We define these start nodes as the nodes which have indegree zero and outdegree greater than zero\n"
   ]
  },
  {
   "cell_type": "code",
   "execution_count": 6,
   "metadata": {
    "collapsed": false
   },
   "outputs": [],
   "source": [
    "deg = degree_counting.create(new_graph) # count degrees of each node\n",
    "deg_graph = deg['graph'] # a new SGraph with degree data attached to each vertex\n",
    "\n",
    "sub_verts=deg_graph.get_vertices(fields={'in_degree': 0})\n",
    "sub_verts=sub_verts[sub_verts['out_degree']>0]"
   ]
  },
  {
   "cell_type": "code",
   "execution_count": 8,
   "metadata": {
    "collapsed": false
   },
   "outputs": [
    {
     "name": "stdout",
     "output_type": "stream",
     "text": [
      "+--------+-----------+------------+--------------+\n",
      "|  __id  | in_degree | out_degree | total_degree |\n",
      "+--------+-----------+------------+--------------+\n",
      "| 289734 |     0     |     3      |      3       |\n",
      "| 490170 |     0     |     13     |      13      |\n",
      "| 327437 |     0     |     2      |      2       |\n",
      "| 299590 |     0     |     2      |      2       |\n",
      "| 517345 |     0     |     2      |      2       |\n",
      "| 444817 |     0     |     2      |      2       |\n",
      "| 374527 |     0     |     2      |      2       |\n",
      "| 85789  |     0     |     2      |      2       |\n",
      "| 321040 |     0     |     4      |      4       |\n",
      "| 324718 |     0     |     2      |      2       |\n",
      "+--------+-----------+------------+--------------+\n",
      "[53481 rows x 4 columns]\n",
      "Note: Only the head of the SFrame is printed.\n",
      "You can use print_rows(num_rows=m, num_columns=n) to print more rows and columns.\n",
      "53481\n"
     ]
    }
   ],
   "source": [
    "print sub_verts.unique()\n",
    "print len(sub_verts)"
   ]
  },
  {
   "cell_type": "markdown",
   "metadata": {},
   "source": [
    "- Another issue is that we have to include dealers which have a self loop and are starting nodes.\n",
    "- Graphlab, by design, counts their indegree as 1. As a result we will add them separately\n",
    "    - We created this list in stata, condition was indegree=0&outdegree>0&selfloop=1"
   ]
  },
  {
   "cell_type": "code",
   "execution_count": 10,
   "metadata": {
    "collapsed": false
   },
   "outputs": [
    {
     "data": {
      "text/html": [
       "<pre>Finished parsing file H:\\graphlab\\2013_q1\\PurchasedFrom\\IndegreeZeroOutdegreeNonzeroWithSelfLoop.csv</pre>"
      ],
      "text/plain": [
       "Finished parsing file H:\\graphlab\\2013_q1\\PurchasedFrom\\IndegreeZeroOutdegreeNonzeroWithSelfLoop.csv"
      ]
     },
     "metadata": {},
     "output_type": "display_data"
    },
    {
     "data": {
      "text/html": [
       "<pre>Parsing completed. Parsed 100 lines in 0.029 secs.</pre>"
      ],
      "text/plain": [
       "Parsing completed. Parsed 100 lines in 0.029 secs."
      ]
     },
     "metadata": {},
     "output_type": "display_data"
    },
    {
     "data": {
      "text/html": [
       "<pre>Finished parsing file H:\\graphlab\\2013_q1\\PurchasedFrom\\IndegreeZeroOutdegreeNonzeroWithSelfLoop.csv</pre>"
      ],
      "text/plain": [
       "Finished parsing file H:\\graphlab\\2013_q1\\PurchasedFrom\\IndegreeZeroOutdegreeNonzeroWithSelfLoop.csv"
      ]
     },
     "metadata": {},
     "output_type": "display_data"
    },
    {
     "data": {
      "text/html": [
       "<pre>Parsing completed. Parsed 469 lines in 0.030003 secs.</pre>"
      ],
      "text/plain": [
       "Parsing completed. Parsed 469 lines in 0.030003 secs."
      ]
     },
     "metadata": {},
     "output_type": "display_data"
    },
    {
     "name": "stdout",
     "output_type": "stream",
     "text": [
      "------------------------------------------------------\n",
      "Inferred types from first line of file as \n",
      "column_type_hints=[long,long,long,long]\n",
      "If parsing fails due to incorrect types, you can correct\n",
      "the inferred type list above and pass it to read_csv in\n",
      "the column_type_hints argument\n",
      "------------------------------------------------------\n"
     ]
    }
   ],
   "source": [
    "self_loop_nodes=SFrame.read_csv('H:/graphlab/2013_q1/PurchasedFrom/IndegreeZeroOutdegreeNonzeroWithSelfLoop.csv')\n",
    "sub_verts=sub_verts.append(self_loop_nodes)"
   ]
  },
  {
   "cell_type": "code",
   "execution_count": 11,
   "metadata": {
    "collapsed": false
   },
   "outputs": [
    {
     "name": "stdout",
     "output_type": "stream",
     "text": [
      "+--------+-----------+------------+--------------+\n",
      "|  __id  | in_degree | out_degree | total_degree |\n",
      "+--------+-----------+------------+--------------+\n",
      "| 289734 |     0     |     3      |      3       |\n",
      "| 490170 |     0     |     13     |      13      |\n",
      "| 327437 |     0     |     2      |      2       |\n",
      "| 299590 |     0     |     2      |      2       |\n",
      "| 517345 |     0     |     2      |      2       |\n",
      "| 444817 |     0     |     2      |      2       |\n",
      "| 374527 |     0     |     2      |      2       |\n",
      "| 85789  |     0     |     2      |      2       |\n",
      "| 321040 |     0     |     4      |      4       |\n",
      "| 324718 |     0     |     2      |      2       |\n",
      "+--------+-----------+------------+--------------+\n",
      "[53950 rows x 4 columns]\n",
      "Note: Only the head of the SFrame is printed.\n",
      "You can use print_rows(num_rows=m, num_columns=n) to print more rows and columns.\n",
      "53950\n"
     ]
    }
   ],
   "source": [
    "print sub_verts.unique()\n",
    "print len(sub_verts)"
   ]
  },
  {
   "cell_type": "code",
   "execution_count": 12,
   "metadata": {
    "collapsed": true
   },
   "outputs": [],
   "source": [
    "sub_verts_id=sub_verts.select_column('__id')\n",
    "sub_verts.export_csv('H:/graphlab/2013_q1/PurchasedFrom/StartNodes.csv')\n",
    "sub_verts_id.save('H:/graphlab/2013_q1/PurchasedFrom/StartNodesSarray.csv')"
   ]
  },
  {
   "cell_type": "code",
   "execution_count": 13,
   "metadata": {
    "collapsed": false
   },
   "outputs": [
    {
     "ename": "IOError",
     "evalue": "Fail to write.",
     "output_type": "error",
     "traceback": [
      "\u001b[1;31m---------------------------------------------------------------------------\u001b[0m",
      "\u001b[1;31mIOError\u001b[0m                                   Traceback (most recent call last)",
      "\u001b[1;32m<ipython-input-13-bf8ad78268ce>\u001b[0m in \u001b[0;36m<module>\u001b[1;34m()\u001b[0m\n\u001b[0;32m     14\u001b[0m         \u001b[0mparent_sframe\u001b[0m \u001b[1;33m=\u001b[0m \u001b[0mparent_sframe\u001b[0m\u001b[1;33m.\u001b[0m\u001b[0mjoin\u001b[0m\u001b[1;33m(\u001b[0m\u001b[0msp_sframe\u001b[0m\u001b[1;33m,\u001b[0m\u001b[0mon\u001b[0m\u001b[1;33m=\u001b[0m\u001b[1;34m'__id'\u001b[0m\u001b[1;33m,\u001b[0m\u001b[0mhow\u001b[0m\u001b[1;33m=\u001b[0m\u001b[1;34m'outer'\u001b[0m\u001b[1;33m)\u001b[0m\u001b[1;33m\u001b[0m\u001b[0m\n\u001b[0;32m     15\u001b[0m         \u001b[1;32mif\u001b[0m \u001b[0mi\u001b[0m\u001b[1;33m%\u001b[0m\u001b[1;36m100\u001b[0m\u001b[1;33m==\u001b[0m\u001b[1;36m0\u001b[0m\u001b[1;33m:\u001b[0m\u001b[1;33m\u001b[0m\u001b[0m\n\u001b[1;32m---> 16\u001b[1;33m             \u001b[0mparent_sframe\u001b[0m\u001b[1;33m.\u001b[0m\u001b[0mexport_csv\u001b[0m\u001b[1;33m(\u001b[0m\u001b[1;34m'H:/graphlab/2013_q1/PurchasedFrom/StartNodes/DistanceMatrixFromStartNodes'\u001b[0m\u001b[1;33m+\u001b[0m\u001b[0mstr\u001b[0m\u001b[1;33m(\u001b[0m\u001b[0mi\u001b[0m\u001b[1;33m)\u001b[0m\u001b[1;33m+\u001b[0m\u001b[1;34m'.csv'\u001b[0m\u001b[1;33m)\u001b[0m\u001b[1;33m\u001b[0m\u001b[0m\n\u001b[0m\u001b[0;32m     17\u001b[0m             \u001b[0mparent_sframe\u001b[0m\u001b[1;33m=\u001b[0m\u001b[0mgraphlab\u001b[0m\u001b[1;33m.\u001b[0m\u001b[0mSFrame\u001b[0m\u001b[1;33m(\u001b[0m\u001b[1;33m)\u001b[0m\u001b[1;33m\u001b[0m\u001b[0m\n\u001b[0;32m     18\u001b[0m             \u001b[0mi\u001b[0m\u001b[1;33m=\u001b[0m\u001b[0mi\u001b[0m\u001b[1;33m+\u001b[0m\u001b[1;36m1\u001b[0m\u001b[1;33m\u001b[0m\u001b[0m\n",
      "\u001b[1;32mC:\\Users\\Administrator\\Anaconda2\\envs\\dato-env\\lib\\site-packages\\graphlab\\data_structures\\sframe.pyc\u001b[0m in \u001b[0;36mexport_csv\u001b[1;34m(self, filename, delimiter, line_terminator, header, quote_level, double_quote, escape_char, quote_char, na_rep, file_header, file_footer, line_prefix, _no_prefix_on_first_value, **kwargs)\u001b[0m\n\u001b[0;32m   3338\u001b[0m \u001b[1;33m\u001b[0m\u001b[0m\n\u001b[0;32m   3339\u001b[0m         \u001b[0murl\u001b[0m \u001b[1;33m=\u001b[0m \u001b[0m_make_internal_url\u001b[0m\u001b[1;33m(\u001b[0m\u001b[0mfilename\u001b[0m\u001b[1;33m)\u001b[0m\u001b[1;33m\u001b[0m\u001b[0m\n\u001b[1;32m-> 3340\u001b[1;33m         \u001b[0mself\u001b[0m\u001b[1;33m.\u001b[0m\u001b[0m__proxy__\u001b[0m\u001b[1;33m.\u001b[0m\u001b[0msave_as_csv\u001b[0m\u001b[1;33m(\u001b[0m\u001b[0murl\u001b[0m\u001b[1;33m,\u001b[0m \u001b[0mwrite_csv_options\u001b[0m\u001b[1;33m)\u001b[0m\u001b[1;33m\u001b[0m\u001b[0m\n\u001b[0m\u001b[0;32m   3341\u001b[0m \u001b[1;33m\u001b[0m\u001b[0m\n\u001b[0;32m   3342\u001b[0m     def export_json(self,\n",
      "\u001b[1;32mgraphlab\\cython\\cy_sframe.pyx\u001b[0m in \u001b[0;36mgraphlab.cython.cy_sframe.UnitySFrameProxy.save_as_csv\u001b[1;34m()\u001b[0m\n",
      "\u001b[1;32mgraphlab\\cython\\cy_sframe.pyx\u001b[0m in \u001b[0;36mgraphlab.cython.cy_sframe.UnitySFrameProxy.save_as_csv\u001b[1;34m()\u001b[0m\n",
      "\u001b[1;31mIOError\u001b[0m: Fail to write."
     ]
    }
   ],
   "source": [
    "parent_sframe=graphlab.SFrame()\n",
    "i=1\n",
    "for StartNode in sub_verts_id:\n",
    "    if not parent_sframe.column_names():\n",
    "        sp = graphlab.shortest_path.create(new_graph, source_vid=StartNode, verbose=False) # finds shortest path for all nodes\n",
    "        sp_sframe = sp['distance'] \n",
    "        parent_sframe= sp_sframe\n",
    "        parent_sframe.rename({'distance':'d'+str(StartNode)})\n",
    "        i=i+1        \n",
    "    else:\n",
    "        sp = graphlab.shortest_path.create(new_graph, source_vid=StartNode, verbose=False)\n",
    "        sp_sframe = sp['distance'] \n",
    "        sp_sframe.rename({'distance':'d'+str(StartNode)})\n",
    "        parent_sframe = parent_sframe.join(sp_sframe,on='__id',how='outer')\n",
    "        if i%100==0:\n",
    "            parent_sframe.export_csv('H:/graphlab/2013_q1/PurchasedFrom/StartNodes/DistanceMatrixFromStartNodes'+str(i)+'.csv')\n",
    "            parent_sframe=graphlab.SFrame()\n",
    "            i=i+1\n",
    "        else:\n",
    "            i=i+1\n",
    "parent_sframe.export_csv('H:/graphlab/2013_q1/PurchasedFrom/StartNodes/DistanceMatrixFromStartNodes'+str(i)+'.csv')    "
   ]
  },
  {
   "cell_type": "code",
   "execution_count": 14,
   "metadata": {
    "collapsed": false
   },
   "outputs": [
    {
     "name": "stdout",
     "output_type": "stream",
     "text": [
      "25900\n"
     ]
    }
   ],
   "source": [
    "print i"
   ]
  },
  {
   "cell_type": "code",
   "execution_count": 27,
   "metadata": {
    "collapsed": false
   },
   "outputs": [
    {
     "name": "stdout",
     "output_type": "stream",
     "text": [
      "188278\n"
     ]
    }
   ],
   "source": [
    "print sub_verts_id[25800]"
   ]
  },
  {
   "cell_type": "code",
   "execution_count": 29,
   "metadata": {
    "collapsed": false
   },
   "outputs": [
    {
     "name": "stdout",
     "output_type": "stream",
     "text": [
      "28150\n"
     ]
    }
   ],
   "source": [
    "print len(sub_verts_id[25800:])"
   ]
  },
  {
   "cell_type": "code",
   "execution_count": 17,
   "metadata": {
    "collapsed": false
   },
   "outputs": [
    {
     "name": "stdout",
     "output_type": "stream",
     "text": [
      "53950\n"
     ]
    }
   ],
   "source": [
    "print len(sub_verts_id)"
   ]
  },
  {
   "cell_type": "code",
   "execution_count": 31,
   "metadata": {
    "collapsed": false
   },
   "outputs": [],
   "source": [
    "parent_sframe=graphlab.SFrame()\n",
    "i=25800\n",
    "for StartNode in sub_verts_id[25800:]:\n",
    "    if not parent_sframe.column_names():\n",
    "        sp = graphlab.shortest_path.create(new_graph, source_vid=StartNode, verbose=False) # finds shortest path for all nodes\n",
    "        sp_sframe = sp['distance'] \n",
    "        parent_sframe= sp_sframe\n",
    "        parent_sframe.rename({'distance':'d'+str(StartNode)})\n",
    "        i=i+1        \n",
    "    else:\n",
    "        sp = graphlab.shortest_path.create(new_graph, source_vid=StartNode, verbose=False)\n",
    "        sp_sframe = sp['distance'] \n",
    "        sp_sframe.rename({'distance':'d'+str(StartNode)})\n",
    "        parent_sframe = parent_sframe.join(sp_sframe,on='__id',how='outer')\n",
    "        if i%100==0:\n",
    "            parent_sframe.export_csv('H:/graphlab/2013_q1/PurchasedFrom/StartNodes/DistanceMatrixFromStartNodes'+str(i)+'.csv')\n",
    "            parent_sframe=graphlab.SFrame()\n",
    "            i=i+1\n",
    "        else:\n",
    "            i=i+1\n",
    "parent_sframe.export_csv('H:/graphlab/2013_q1/PurchasedFrom/StartNodes/DistanceMatrixFromStartNodes'+str(i)+'.csv')    "
   ]
  },
  {
   "cell_type": "code",
   "execution_count": null,
   "metadata": {
    "collapsed": true
   },
   "outputs": [],
   "source": []
  }
 ],
 "metadata": {
  "kernelspec": {
   "display_name": "Python 2",
   "language": "python",
   "name": "python2"
  },
  "language_info": {
   "codemirror_mode": {
    "name": "ipython",
    "version": 2
   },
   "file_extension": ".py",
   "mimetype": "text/x-python",
   "name": "python",
   "nbconvert_exporter": "python",
   "pygments_lexer": "ipython2",
   "version": "2.7.12"
  }
 },
 "nbformat": 4,
 "nbformat_minor": 0
}
