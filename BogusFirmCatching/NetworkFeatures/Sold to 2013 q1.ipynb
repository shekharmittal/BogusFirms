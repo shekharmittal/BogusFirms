{
 "cells": [
  {
   "cell_type": "markdown",
   "metadata": {},
   "source": [
    "* In this file we will create a matrix which shows the distance for each dealer from all the starting nodes in the 2013 q1 sold to network\n",
    "* We also have to find these start nodes\n",
    "    \n",
    "\n",
    "* Step 0: Import Graphlab, sgraph etc\n",
    "* Step 1: Import nodes list and edge list from csv files\n",
    "* Step 2: Create SGraph from imported nodes list and edge list\n",
    "* Step 3: Save the graph in a directory \"sold_to_2013_q1\". Then load the graph into a new Sgraph\n",
    "* Step 4: Find starting nodes\n",
    "    - We define these start nodes as the nodes which have indegree zero and outdegree greater than zero\n",
    "    - Another issue is that we have to include dealers which have a self loop and are starting nodes. Graphlab, by design, counts their indegree as 1. As a result we will add them separately\n",
    "* Step 5: Calculating distance from starting nodes\n",
    "    - The files were becoming huge, so we had to split the data in sets of 100 nodes.\n",
    "    - Will merge these files in stata\n"
   ]
  },
  {
   "cell_type": "markdown",
   "metadata": {},
   "source": [
    "* Step 0: Import Graphlab, sgraph etc\n",
    "* Step 1: Import nodes list and edge list from csv files"
   ]
  },
  {
   "cell_type": "code",
   "execution_count": 22,
   "metadata": {
    "collapsed": false
   },
   "outputs": [],
   "source": [
    "import graphlab \n",
    "from graphlab import SGraph, Vertex, Edge, SFrame, degree_counting"
   ]
  },
  {
   "cell_type": "code",
   "execution_count": 23,
   "metadata": {
    "collapsed": false
   },
   "outputs": [
    {
     "data": {
      "text/html": [
       "<pre>Finished parsing file H:\\graphlab\\2013_q1\\SoldTo\\edge_list.csv</pre>"
      ],
      "text/plain": [
       "Finished parsing file H:\\graphlab\\2013_q1\\SoldTo\\edge_list.csv"
      ]
     },
     "metadata": {},
     "output_type": "display_data"
    },
    {
     "data": {
      "text/html": [
       "<pre>Parsing completed. Parsed 100 lines in 1.17707 secs.</pre>"
      ],
      "text/plain": [
       "Parsing completed. Parsed 100 lines in 1.17707 secs."
      ]
     },
     "metadata": {},
     "output_type": "display_data"
    },
    {
     "data": {
      "text/html": [
       "<pre>Finished parsing file H:\\graphlab\\2013_q1\\SoldTo\\edge_list.csv</pre>"
      ],
      "text/plain": [
       "Finished parsing file H:\\graphlab\\2013_q1\\SoldTo\\edge_list.csv"
      ]
     },
     "metadata": {},
     "output_type": "display_data"
    },
    {
     "data": {
      "text/html": [
       "<pre>Parsing completed. Parsed 1394933 lines in 0.78125 secs.</pre>"
      ],
      "text/plain": [
       "Parsing completed. Parsed 1394933 lines in 0.78125 secs."
      ]
     },
     "metadata": {},
     "output_type": "display_data"
    },
    {
     "data": {
      "text/html": [
       "<pre>Finished parsing file H:\\graphlab\\2013_q1\\SoldTo\\nodes.csv</pre>"
      ],
      "text/plain": [
       "Finished parsing file H:\\graphlab\\2013_q1\\SoldTo\\nodes.csv"
      ]
     },
     "metadata": {},
     "output_type": "display_data"
    },
    {
     "data": {
      "text/html": [
       "<pre>Parsing completed. Parsed 100 lines in 0.125002 secs.</pre>"
      ],
      "text/plain": [
       "Parsing completed. Parsed 100 lines in 0.125002 secs."
      ]
     },
     "metadata": {},
     "output_type": "display_data"
    },
    {
     "name": "stdout",
     "output_type": "stream",
     "text": [
      "------------------------------------------------------\n",
      "Inferred types from first line of file as \n",
      "column_type_hints=[long,long,str]\n",
      "If parsing fails due to incorrect types, you can correct\n",
      "the inferred type list above and pass it to read_csv in\n",
      "the column_type_hints argument\n",
      "------------------------------------------------------\n",
      "------------------------------------------------------"
     ]
    },
    {
     "data": {
      "text/html": [
       "<pre>Finished parsing file H:\\graphlab\\2013_q1\\SoldTo\\nodes.csv</pre>"
      ],
      "text/plain": [
       "Finished parsing file H:\\graphlab\\2013_q1\\SoldTo\\nodes.csv"
      ]
     },
     "metadata": {},
     "output_type": "display_data"
    },
    {
     "data": {
      "text/html": [
       "<pre>Parsing completed. Parsed 250396 lines in 0.136818 secs.</pre>"
      ],
      "text/plain": [
       "Parsing completed. Parsed 250396 lines in 0.136818 secs."
      ]
     },
     "metadata": {},
     "output_type": "display_data"
    },
    {
     "name": "stdout",
     "output_type": "stream",
     "text": [
      "\n",
      "Inferred types from first line of file as \n",
      "column_type_hints=[long,long,long,long,long]\n",
      "If parsing fails due to incorrect types, you can correct\n",
      "the inferred type list above and pass it to read_csv in\n",
      "the column_type_hints argument\n",
      "------------------------------------------------------\n"
     ]
    }
   ],
   "source": [
    "edge_data = SFrame.read_csv( 'H:/graphlab/2013_q1/SoldTo/edge_list.csv')\n",
    "node_data=SFrame.read_csv('H:/graphlab/2013_q1/SoldTo/nodes.csv')"
   ]
  },
  {
   "cell_type": "code",
   "execution_count": 3,
   "metadata": {
    "collapsed": false
   },
   "outputs": [
    {
     "data": {
      "text/html": [
       "<div style=\"max-height:1000px;max-width:1500px;overflow:auto;\"><table frame=\"box\" rules=\"cols\">\n",
       "    <tr>\n",
       "        <th style=\"padding-left: 1em; padding-right: 1em; text-align: center\">DealerTIN</th>\n",
       "        <th style=\"padding-left: 1em; padding-right: 1em; text-align: center\">indegree</th>\n",
       "        <th style=\"padding-left: 1em; padding-right: 1em; text-align: center\">outdegree</th>\n",
       "        <th style=\"padding-left: 1em; padding-right: 1em; text-align: center\">network_number</th>\n",
       "        <th style=\"padding-left: 1em; padding-right: 1em; text-align: center\">self_loop</th>\n",
       "    </tr>\n",
       "    <tr>\n",
       "        <td style=\"padding-left: 1em; padding-right: 1em; text-align: center; vertical-align: top\">427816</td>\n",
       "        <td style=\"padding-left: 1em; padding-right: 1em; text-align: center; vertical-align: top\">3</td>\n",
       "        <td style=\"padding-left: 1em; padding-right: 1em; text-align: center; vertical-align: top\">0</td>\n",
       "        <td style=\"padding-left: 1em; padding-right: 1em; text-align: center; vertical-align: top\">1</td>\n",
       "        <td style=\"padding-left: 1em; padding-right: 1em; text-align: center; vertical-align: top\">0</td>\n",
       "    </tr>\n",
       "    <tr>\n",
       "        <td style=\"padding-left: 1em; padding-right: 1em; text-align: center; vertical-align: top\">489461</td>\n",
       "        <td style=\"padding-left: 1em; padding-right: 1em; text-align: center; vertical-align: top\">2</td>\n",
       "        <td style=\"padding-left: 1em; padding-right: 1em; text-align: center; vertical-align: top\">2</td>\n",
       "        <td style=\"padding-left: 1em; padding-right: 1em; text-align: center; vertical-align: top\">1</td>\n",
       "        <td style=\"padding-left: 1em; padding-right: 1em; text-align: center; vertical-align: top\">0</td>\n",
       "    </tr>\n",
       "    <tr>\n",
       "        <td style=\"padding-left: 1em; padding-right: 1em; text-align: center; vertical-align: top\">427810</td>\n",
       "        <td style=\"padding-left: 1em; padding-right: 1em; text-align: center; vertical-align: top\">28</td>\n",
       "        <td style=\"padding-left: 1em; padding-right: 1em; text-align: center; vertical-align: top\">3</td>\n",
       "        <td style=\"padding-left: 1em; padding-right: 1em; text-align: center; vertical-align: top\">1</td>\n",
       "        <td style=\"padding-left: 1em; padding-right: 1em; text-align: center; vertical-align: top\">0</td>\n",
       "    </tr>\n",
       "    <tr>\n",
       "        <td style=\"padding-left: 1em; padding-right: 1em; text-align: center; vertical-align: top\">160199</td>\n",
       "        <td style=\"padding-left: 1em; padding-right: 1em; text-align: center; vertical-align: top\">9</td>\n",
       "        <td style=\"padding-left: 1em; padding-right: 1em; text-align: center; vertical-align: top\">0</td>\n",
       "        <td style=\"padding-left: 1em; padding-right: 1em; text-align: center; vertical-align: top\">1</td>\n",
       "        <td style=\"padding-left: 1em; padding-right: 1em; text-align: center; vertical-align: top\">0</td>\n",
       "    </tr>\n",
       "    <tr>\n",
       "        <td style=\"padding-left: 1em; padding-right: 1em; text-align: center; vertical-align: top\">427809</td>\n",
       "        <td style=\"padding-left: 1em; padding-right: 1em; text-align: center; vertical-align: top\">125</td>\n",
       "        <td style=\"padding-left: 1em; padding-right: 1em; text-align: center; vertical-align: top\">0</td>\n",
       "        <td style=\"padding-left: 1em; padding-right: 1em; text-align: center; vertical-align: top\">1</td>\n",
       "        <td style=\"padding-left: 1em; padding-right: 1em; text-align: center; vertical-align: top\">0</td>\n",
       "    </tr>\n",
       "    <tr>\n",
       "        <td style=\"padding-left: 1em; padding-right: 1em; text-align: center; vertical-align: top\">155446</td>\n",
       "        <td style=\"padding-left: 1em; padding-right: 1em; text-align: center; vertical-align: top\">8</td>\n",
       "        <td style=\"padding-left: 1em; padding-right: 1em; text-align: center; vertical-align: top\">7</td>\n",
       "        <td style=\"padding-left: 1em; padding-right: 1em; text-align: center; vertical-align: top\">1</td>\n",
       "        <td style=\"padding-left: 1em; padding-right: 1em; text-align: center; vertical-align: top\">0</td>\n",
       "    </tr>\n",
       "    <tr>\n",
       "        <td style=\"padding-left: 1em; padding-right: 1em; text-align: center; vertical-align: top\">252192</td>\n",
       "        <td style=\"padding-left: 1em; padding-right: 1em; text-align: center; vertical-align: top\">3</td>\n",
       "        <td style=\"padding-left: 1em; padding-right: 1em; text-align: center; vertical-align: top\">39</td>\n",
       "        <td style=\"padding-left: 1em; padding-right: 1em; text-align: center; vertical-align: top\">1</td>\n",
       "        <td style=\"padding-left: 1em; padding-right: 1em; text-align: center; vertical-align: top\">0</td>\n",
       "    </tr>\n",
       "    <tr>\n",
       "        <td style=\"padding-left: 1em; padding-right: 1em; text-align: center; vertical-align: top\">300114</td>\n",
       "        <td style=\"padding-left: 1em; padding-right: 1em; text-align: center; vertical-align: top\">1</td>\n",
       "        <td style=\"padding-left: 1em; padding-right: 1em; text-align: center; vertical-align: top\">2</td>\n",
       "        <td style=\"padding-left: 1em; padding-right: 1em; text-align: center; vertical-align: top\">1</td>\n",
       "        <td style=\"padding-left: 1em; padding-right: 1em; text-align: center; vertical-align: top\">0</td>\n",
       "    </tr>\n",
       "    <tr>\n",
       "        <td style=\"padding-left: 1em; padding-right: 1em; text-align: center; vertical-align: top\">427796</td>\n",
       "        <td style=\"padding-left: 1em; padding-right: 1em; text-align: center; vertical-align: top\">3</td>\n",
       "        <td style=\"padding-left: 1em; padding-right: 1em; text-align: center; vertical-align: top\">8</td>\n",
       "        <td style=\"padding-left: 1em; padding-right: 1em; text-align: center; vertical-align: top\">1</td>\n",
       "        <td style=\"padding-left: 1em; padding-right: 1em; text-align: center; vertical-align: top\">0</td>\n",
       "    </tr>\n",
       "    <tr>\n",
       "        <td style=\"padding-left: 1em; padding-right: 1em; text-align: center; vertical-align: top\">395109</td>\n",
       "        <td style=\"padding-left: 1em; padding-right: 1em; text-align: center; vertical-align: top\">9</td>\n",
       "        <td style=\"padding-left: 1em; padding-right: 1em; text-align: center; vertical-align: top\">16</td>\n",
       "        <td style=\"padding-left: 1em; padding-right: 1em; text-align: center; vertical-align: top\">1</td>\n",
       "        <td style=\"padding-left: 1em; padding-right: 1em; text-align: center; vertical-align: top\">0</td>\n",
       "    </tr>\n",
       "</table>\n",
       "[10 rows x 5 columns]<br/>\n",
       "</div>"
      ],
      "text/plain": [
       "Columns:\n",
       "\tDealerTIN\tint\n",
       "\tindegree\tint\n",
       "\toutdegree\tint\n",
       "\tnetwork_number\tint\n",
       "\tself_loop\tint\n",
       "\n",
       "Rows: 10\n",
       "\n",
       "Data:\n",
       "+-----------+----------+-----------+----------------+-----------+\n",
       "| DealerTIN | indegree | outdegree | network_number | self_loop |\n",
       "+-----------+----------+-----------+----------------+-----------+\n",
       "|   427816  |    3     |     0     |       1        |     0     |\n",
       "|   489461  |    2     |     2     |       1        |     0     |\n",
       "|   427810  |    28    |     3     |       1        |     0     |\n",
       "|   160199  |    9     |     0     |       1        |     0     |\n",
       "|   427809  |   125    |     0     |       1        |     0     |\n",
       "|   155446  |    8     |     7     |       1        |     0     |\n",
       "|   252192  |    3     |     39    |       1        |     0     |\n",
       "|   300114  |    1     |     2     |       1        |     0     |\n",
       "|   427796  |    3     |     8     |       1        |     0     |\n",
       "|   395109  |    9     |     16    |       1        |     0     |\n",
       "+-----------+----------+-----------+----------------+-----------+\n",
       "[10 rows x 5 columns]"
      ]
     },
     "execution_count": 3,
     "metadata": {},
     "output_type": "execute_result"
    }
   ],
   "source": [
    "node_data.head()"
   ]
  },
  {
   "cell_type": "markdown",
   "metadata": {},
   "source": [
    "* Step 2: Create SGraph from imported nodes list and edge list\n",
    "* Step 3: Save the graph in a directory \"sold_to_2013_q1\". Then load the graph into a new Sgraph"
   ]
  },
  {
   "cell_type": "code",
   "execution_count": 24,
   "metadata": {
    "collapsed": true
   },
   "outputs": [],
   "source": [
    "g = SGraph(vertices=node_data, edges=edge_data, vid_field='DealerTIN', src_field='Source', dst_field='Destination')\n",
    "g.save('H:/graphlab/2013_q1/SoldTo/Sold_to_2013_q1')\n",
    "new_graph = graphlab.load_sgraph('H:/graphlab/2013_q1/SoldTo/Sold_to_2013_q1')"
   ]
  },
  {
   "cell_type": "code",
   "execution_count": 5,
   "metadata": {
    "collapsed": false
   },
   "outputs": [
    {
     "data": {
      "text/plain": [
       "{'num_edges': 1394933L, 'num_vertices': 250396L}"
      ]
     },
     "execution_count": 5,
     "metadata": {},
     "output_type": "execute_result"
    }
   ],
   "source": [
    "new_graph.summary()"
   ]
  },
  {
   "cell_type": "markdown",
   "metadata": {},
   "source": [
    "* Step 4: Find starting nodes\n",
    "    - We define these start nodes as the nodes which have indegree zero and outdegree greater than zero\n"
   ]
  },
  {
   "cell_type": "code",
   "execution_count": 16,
   "metadata": {
    "collapsed": false
   },
   "outputs": [],
   "source": [
    "deg = degree_counting.create(new_graph) # count degrees of each node\n",
    "deg_graph = deg['graph'] # a new SGraph with degree data attached to each vertex\n",
    "\n",
    "sub_verts=deg_graph.get_vertices(fields={'in_degree': 0})\n",
    "sub_verts=sub_verts[sub_verts['out_degree']>0]"
   ]
  },
  {
   "cell_type": "code",
   "execution_count": 18,
   "metadata": {
    "collapsed": false
   },
   "outputs": [
    {
     "name": "stdout",
     "output_type": "stream",
     "text": [
      "+--------+-----------+------------+--------------+\n",
      "|  __id  | in_degree | out_degree | total_degree |\n",
      "+--------+-----------+------------+--------------+\n",
      "| 451737 |     0     |     2      |      2       |\n",
      "| 397670 |     0     |     4      |      4       |\n",
      "|  8143  |     0     |     12     |      12      |\n",
      "|  3871  |     0     |     16     |      16      |\n",
      "| 120032 |     0     |     2      |      2       |\n",
      "| 398739 |     0     |     2      |      2       |\n",
      "| 300699 |     0     |     2      |      2       |\n",
      "| 166073 |     0     |     2      |      2       |\n",
      "| 347654 |     0     |     2      |      2       |\n",
      "| 148502 |     0     |     2      |      2       |\n",
      "+--------+-----------+------------+--------------+\n",
      "[14678 rows x 4 columns]\n",
      "Note: Only the head of the SFrame is printed.\n",
      "You can use print_rows(num_rows=m, num_columns=n) to print more rows and columns.\n",
      "14678\n"
     ]
    }
   ],
   "source": [
    "print sub_verts.unique()\n",
    "print len(sub_verts)"
   ]
  },
  {
   "cell_type": "markdown",
   "metadata": {},
   "source": [
    "- Another issue is that we have to include dealers which have a self loop and are starting nodes.\n",
    "- Graphlab, by design, counts their indegree as 1. As a result we will add them separately\n",
    "    - We created this list in stata, condition was indegree=0&outdegree>0&selfloop=1"
   ]
  },
  {
   "cell_type": "code",
   "execution_count": 19,
   "metadata": {
    "collapsed": false
   },
   "outputs": [
    {
     "data": {
      "text/html": [
       "<pre>Finished parsing file H:\\graphlab\\2013_q1\\SoldTo\\IndegreeZeroOutdegreeNonzeroWithSelfLoop.csv</pre>"
      ],
      "text/plain": [
       "Finished parsing file H:\\graphlab\\2013_q1\\SoldTo\\IndegreeZeroOutdegreeNonzeroWithSelfLoop.csv"
      ]
     },
     "metadata": {},
     "output_type": "display_data"
    },
    {
     "data": {
      "text/html": [
       "<pre>Parsing completed. Parsed 18 lines in 0.025997 secs.</pre>"
      ],
      "text/plain": [
       "Parsing completed. Parsed 18 lines in 0.025997 secs."
      ]
     },
     "metadata": {},
     "output_type": "display_data"
    },
    {
     "data": {
      "text/html": [
       "<pre>Finished parsing file H:\\graphlab\\2013_q1\\SoldTo\\IndegreeZeroOutdegreeNonzeroWithSelfLoop.csv</pre>"
      ],
      "text/plain": [
       "Finished parsing file H:\\graphlab\\2013_q1\\SoldTo\\IndegreeZeroOutdegreeNonzeroWithSelfLoop.csv"
      ]
     },
     "metadata": {},
     "output_type": "display_data"
    },
    {
     "data": {
      "text/html": [
       "<pre>Parsing completed. Parsed 18 lines in 0.024997 secs.</pre>"
      ],
      "text/plain": [
       "Parsing completed. Parsed 18 lines in 0.024997 secs."
      ]
     },
     "metadata": {},
     "output_type": "display_data"
    },
    {
     "name": "stdout",
     "output_type": "stream",
     "text": [
      "------------------------------------------------------\n",
      "Inferred types from first line of file as \n",
      "column_type_hints=[long,long,long,long]\n",
      "If parsing fails due to incorrect types, you can correct\n",
      "the inferred type list above and pass it to read_csv in\n",
      "the column_type_hints argument\n",
      "------------------------------------------------------\n"
     ]
    }
   ],
   "source": [
    "self_loop_nodes=SFrame.read_csv('H:/graphlab/2013_q1/SoldTo/IndegreeZeroOutdegreeNonzeroWithSelfLoop.csv')\n",
    "sub_verts=sub_verts.append(self_loop_nodes)"
   ]
  },
  {
   "cell_type": "code",
   "execution_count": 20,
   "metadata": {
    "collapsed": false
   },
   "outputs": [
    {
     "name": "stdout",
     "output_type": "stream",
     "text": [
      "+--------+-----------+------------+--------------+\n",
      "|  __id  | in_degree | out_degree | total_degree |\n",
      "+--------+-----------+------------+--------------+\n",
      "| 451737 |     0     |     2      |      2       |\n",
      "| 397670 |     0     |     4      |      4       |\n",
      "|  8143  |     0     |     12     |      12      |\n",
      "|  3871  |     0     |     16     |      16      |\n",
      "| 120032 |     0     |     2      |      2       |\n",
      "| 398739 |     0     |     2      |      2       |\n",
      "| 300699 |     0     |     2      |      2       |\n",
      "| 166073 |     0     |     2      |      2       |\n",
      "| 347654 |     0     |     2      |      2       |\n",
      "| 148502 |     0     |     2      |      2       |\n",
      "+--------+-----------+------------+--------------+\n",
      "[14696 rows x 4 columns]\n",
      "Note: Only the head of the SFrame is printed.\n",
      "You can use print_rows(num_rows=m, num_columns=n) to print more rows and columns.\n",
      "14696\n"
     ]
    }
   ],
   "source": [
    "print sub_verts.unique()\n",
    "print len(sub_verts)"
   ]
  },
  {
   "cell_type": "code",
   "execution_count": 21,
   "metadata": {
    "collapsed": true
   },
   "outputs": [],
   "source": [
    "sub_verts_id=sub_verts.select_column('__id')\n",
    "sub_verts.export_csv('H:/graphlab/2013_q1/SoldTo/StartNodes.csv')\n",
    "sub_verts_id.save('H:/graphlab/2013_q1/SoldTo/StartNodesSarray.csv')"
   ]
  },
  {
   "cell_type": "code",
   "execution_count": null,
   "metadata": {
    "collapsed": true
   },
   "outputs": [],
   "source": [
    "parent_sframe=graphlab.SFrame()\n",
    "i=1\n",
    "for StartNode in sub_verts_id:\n",
    "    if not parent_sframe.column_names():\n",
    "        sp = graphlab.shortest_path.create(new_graph, source_vid=StartNode, verbose=False) # finds shortest path for all nodes\n",
    "        sp_sframe = sp['distance'] \n",
    "        parent_sframe= sp_sframe\n",
    "        parent_sframe.rename({'distance':'d'+str(StartNode)})\n",
    "        i=i+1        \n",
    "    else:\n",
    "        sp = graphlab.shortest_path.create(new_graph, source_vid=StartNode, verbose=False)\n",
    "        sp_sframe = sp['distance'] \n",
    "        sp_sframe.rename({'distance':'d'+str(StartNode)})\n",
    "        parent_sframe = parent_sframe.join(sp_sframe,on='__id',how='outer')\n",
    "        if i%100==0:\n",
    "            parent_sframe.export_csv('H:/graphlab/2013_q1/SoldTo/StartNodes/DistanceMatrixFromStartNodes'+str(i)+'.csv')\n",
    "            parent_sframe=graphlab.SFrame()\n",
    "            i=i+1\n",
    "        else:\n",
    "            i=i+1\n",
    "parent_sframe.export_csv('H:/graphlab/2013_q1/SoldTo/StartNodes/DistanceMatrixFromStartNodes'+str(i)+'.csv')    "
   ]
  }
 ],
 "metadata": {
  "kernelspec": {
   "display_name": "Python 2",
   "language": "python",
   "name": "python2"
  },
  "language_info": {
   "codemirror_mode": {
    "name": "ipython",
    "version": 2
   },
   "file_extension": ".py",
   "mimetype": "text/x-python",
   "name": "python",
   "nbconvert_exporter": "python",
   "pygments_lexer": "ipython2",
   "version": "2.7.10"
  }
 },
 "nbformat": 4,
 "nbformat_minor": 0
}
